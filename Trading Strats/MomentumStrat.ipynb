{
 "cells": [
  {
   "cell_type": "code",
   "execution_count": null,
   "metadata": {},
   "outputs": [],
   "source": [
    "import numpy as np\n",
    "import pandas as pd\n",
    "import pandas_datareader as pdr\n",
    "import matplotlib.pyplot as plt "
   ]
  },
  {
   "cell_type": "markdown",
   "metadata": {},
   "source": [
    "### Momentum Trading Strategy "
   ]
  },
  {
   "cell_type": "code",
   "execution_count": null,
   "metadata": {},
   "outputs": [],
   "source": [
    "#Arrnage Data\n",
    "btc = pdr.get_data_yahoo('BTC-USD')\n",
    "day = np.arange(1, len(btc) + 1)\n",
    "btc['day'] = day\n",
    "btc.drop(columns=['Adj Close', 'Volume'], inplace = True)\n",
    "btc = btc[['day', 'Open', 'High', 'Low', 'Close']]\n",
    "btc.head()"
   ]
  },
  {
   "cell_type": "code",
   "execution_count": null,
   "metadata": {},
   "outputs": [],
   "source": [
    "# add moving average \n",
    "btc['9-day'] = btc['Close'].rolling(9).mean().shift()\n",
    "btc['21-day'] = btc['Close'].rolling(21).mean().shift()\n",
    "btc[19:25]"
   ]
  },
  {
   "cell_type": "code",
   "execution_count": null,
   "metadata": {},
   "outputs": [],
   "source": [
    "# add Signal column\n",
    "btc ['signal'] = np.where(btc['9-day'] > btc['21-day'], 1, 0)\n",
    "btc['signal'] = np.where(btc['9-day'] < btc['21-day'], -1, btc['signal'])\n",
    "btc.dropna(inplace=True)"
   ]
  },
  {
   "cell_type": "code",
   "execution_count": null,
   "metadata": {},
   "outputs": [],
   "source": [
    "#calculate buy and hold return vs strategy return \n",
    "btc['return'] = np.log(btc['Close']).diff()\n",
    "btc['strategy_return'] = btc['signal'] * btc['return']\n",
    "btc['entry'] = btc.signal.diff()\n",
    "btc.head()"
   ]
  },
  {
   "cell_type": "code",
   "execution_count": null,
   "metadata": {},
   "outputs": [],
   "source": [
    "#plot trades on time series\n",
    "\n",
    "plt.rcParams['figure.figsize'] = 12, 6 \n",
    "plt.grid(True, alpha = .3)\n",
    "plt.plot(btc.iloc[-365:]['Close'], label = 'BTC')\n",
    "plt.plot(btc.iloc[-365:]['9-day'], label = '9-day')\n",
    "plt.plot(btc.iloc[-365:]['21-day'], label = '21-day')\n",
    "plt.plot(btc[-365:].loc[btc.entry == 2].index, btc[-365:]['9-day'][btc.entry == 2], '^', color = 'g', markersize = 12)\n",
    "plt.plot(btc[-365:].loc[btc.entry == -2].index, btc[-365:]['21-day'][btc.entry == -2], 'v', color = 'r', markersize = 12)\n",
    "plt.legend(loc=2);\n"
   ]
  },
  {
   "cell_type": "code",
   "execution_count": null,
   "metadata": {},
   "outputs": [],
   "source": [
    "plt.plot(np.exp(btc.iloc[-365:]['return']).cumprod(), label='Buy/Hold')\n",
    "plt.plot(np.exp(btc.iloc[-365:]['strategy_return']).cumprod(), label='Strategy')\n",
    "plt.legend(loc=2)\n",
    "plt.grid(True, alpha=.3)"
   ]
  },
  {
   "cell_type": "code",
   "execution_count": null,
   "metadata": {},
   "outputs": [],
   "source": [
    "np.exp(btc.iloc[-365:]['return']).cumprod()[-1] -1"
   ]
  },
  {
   "cell_type": "code",
   "execution_count": null,
   "metadata": {},
   "outputs": [],
   "source": [
    "np.exp(btc.iloc[-365:]['strategy_return']).cumprod()[-1] -1"
   ]
  },
  {
   "cell_type": "code",
   "execution_count": null,
   "metadata": {},
   "outputs": [],
   "source": []
  },
  {
   "cell_type": "code",
   "execution_count": null,
   "metadata": {},
   "outputs": [],
   "source": []
  }
 ],
 "metadata": {
  "kernelspec": {
   "display_name": "Python 3.9.12 ('base')",
   "language": "python",
   "name": "python3"
  },
  "language_info": {
   "codemirror_mode": {
    "name": "ipython",
    "version": 3
   },
   "file_extension": ".py",
   "mimetype": "text/x-python",
   "name": "python",
   "nbconvert_exporter": "python",
   "pygments_lexer": "ipython3",
   "version": "3.9.12 (main, Apr  5 2022, 01:53:17) \n[Clang 12.0.0 ]"
  },
  "orig_nbformat": 4,
  "vscode": {
   "interpreter": {
    "hash": "c4e4e0db8504a060df795c96eaaf5f2e40d78467421fda8e3c9314686cc061bf"
   }
  }
 },
 "nbformat": 4,
 "nbformat_minor": 2
}
