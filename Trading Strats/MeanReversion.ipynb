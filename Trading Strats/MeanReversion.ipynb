{
 "cells": [
  {
   "cell_type": "code",
   "execution_count": null,
   "metadata": {},
   "outputs": [],
   "source": [
    "import numpy as np\n",
    "import pandas as pd\n",
    "import pandas_datareader as pdr\n",
    "import matplotlib.pyplot as plt \n",
    "from matplotlib import rcParams \n",
    "rcParams['figure.figsize'] = 8,6\n",
    "import seaborn as sb\n",
    "sb.set()"
   ]
  },
  {
   "cell_type": "code",
   "execution_count": null,
   "metadata": {},
   "outputs": [],
   "source": [
    "btc = pd.DataFrame(pdr.get_data_yahoo('BTC-USD')['Close'])\n",
    "btc.head()"
   ]
  },
  {
   "cell_type": "code",
   "execution_count": null,
   "metadata": {},
   "outputs": [],
   "source": [
    "ma = 21\n",
    "btc['return'] = np.log(btc[\"Close\"]).diff()\n",
    "btc['ma'] = btc['Close'].rolling(ma).mean()\n",
    "btc['ratio'] = btc['Close'] / btc['ma']\n",
    "btc"
   ]
  },
  {
   "cell_type": "code",
   "execution_count": null,
   "metadata": {},
   "outputs": [],
   "source": [
    "btc['ratio'].describe()"
   ]
  },
  {
   "cell_type": "code",
   "execution_count": null,
   "metadata": {},
   "outputs": [],
   "source": [
    "percentiles = [2.5, 7, 50, 95, 97.5]\n",
    "p = np.percentile(btc['ratio'].dropna(), percentiles)"
   ]
  },
  {
   "cell_type": "code",
   "execution_count": null,
   "metadata": {},
   "outputs": [],
   "source": [
    "btc['ratio'].dropna().plot(legend =True)\n",
    "plt.axhline(p[0], c= (.5, .5, .5), ls='--')\n",
    "plt.axhline(p[2], c= (.5, .5, .5), ls='--')\n",
    "plt.axhline(p[-1], c= (.5, .5, .5), ls='--')\n"
   ]
  },
  {
   "cell_type": "code",
   "execution_count": null,
   "metadata": {},
   "outputs": [],
   "source": [
    "short = p[-1]\n",
    "long = p[0]\n",
    "btc['position'] = np.where(btc.ratio > short, -1, np.nan)\n",
    "btc['position'] = np.where(btc.ratio < long, 1, btc['position'])\n",
    "btc['position'] = btc['position'].ffill()\n"
   ]
  },
  {
   "cell_type": "code",
   "execution_count": null,
   "metadata": {},
   "outputs": [],
   "source": [
    "btc.position.dropna().plot()"
   ]
  },
  {
   "cell_type": "code",
   "execution_count": null,
   "metadata": {},
   "outputs": [],
   "source": [
    "btc['strat_return'] = btc['return'] * btc['position'].shift()"
   ]
  },
  {
   "cell_type": "code",
   "execution_count": null,
   "metadata": {},
   "outputs": [],
   "source": [
    "plt.plot(np.exp(btc['return'].dropna()).cumprod(), label='Buy/Hold')\n",
    "plt.plot(np.exp(btc['strat_return'].dropna()).cumprod(), label='Strategy')\n",
    "plt.legend();"
   ]
  }
 ],
 "metadata": {
  "kernelspec": {
   "display_name": "Python 3.9.12 ('base')",
   "language": "python",
   "name": "python3"
  },
  "language_info": {
   "codemirror_mode": {
    "name": "ipython",
    "version": 3
   },
   "file_extension": ".py",
   "mimetype": "text/x-python",
   "name": "python",
   "nbconvert_exporter": "python",
   "pygments_lexer": "ipython3",
   "version": "3.9.12 (main, Apr  5 2022, 01:53:17) \n[Clang 12.0.0 ]"
  },
  "orig_nbformat": 4,
  "vscode": {
   "interpreter": {
    "hash": "c4e4e0db8504a060df795c96eaaf5f2e40d78467421fda8e3c9314686cc061bf"
   }
  }
 },
 "nbformat": 4,
 "nbformat_minor": 2
}
