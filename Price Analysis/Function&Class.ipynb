{
 "cells": [
  {
   "cell_type": "code",
   "execution_count": null,
   "metadata": {},
   "outputs": [],
   "source": [
    "import yfinance as yf\n",
    "import pandas as pd\n",
    "import numpy as np\n",
    "import matplotlib.pyplot as plt\n",
    "import seaborn as sns\n",
    "from scipy.stats import linregress\n",
    "from datetime import date, timedelta"
   ]
  },
  {
   "cell_type": "markdown",
   "metadata": {},
   "source": [
    "### Function "
   ]
  },
  {
   "cell_type": "code",
   "execution_count": null,
   "metadata": {},
   "outputs": [],
   "source": [
    "def test_strategy(asset, start, SMA):\n",
    "    df=yf.download(asset,start=start,end = date.today())\n",
    "    data=pd.DataFrame(df.Close)\n",
    "    data[\"returns\"]=np.log(data.Close.div(data.Close.shift(1)))\n",
    "    data[\"SMA_S\"]=data.Close.rolling(int(SMA[0])).mean() #[0]first in the array, so 50. \n",
    "    data[\"SMA_L\"]=data.Close.rolling(int(SMA[1])).mean()\n",
    "    data.dropna(inplace=True)\n",
    "\n",
    "    data[\"position\"]=np.where(data[\"SMA_S\"]>data[\"SMA_L\"],1,-1)\n",
    "    data[\"strategy\"]=data[\"returns\"]*data.position.shift(1)\n",
    "    data.dropna(inplace=True)\n",
    "    ret= np.exp(data[\"strategy\"].sum())\n",
    "    std= data[\"strategy\"].std()*np.sqrt(365)\n",
    "\n",
    "    return print(f\"Return is {ret} and Standard Deviation is {std}\")\n"
   ]
  },
  {
   "cell_type": "code",
   "execution_count": null,
   "metadata": {},
   "outputs": [],
   "source": [
    "test_strategy(\"BTC-USD\", \"2017-01-01\", (50,200))"
   ]
  },
  {
   "cell_type": "markdown",
   "metadata": {},
   "source": [
    "### Class "
   ]
  },
  {
   "cell_type": "code",
   "execution_count": null,
   "metadata": {},
   "outputs": [],
   "source": [
    "class SMABacktester():\n",
    "    def __init__(self, asset, SMA_S, SMA_L,start,end):\n",
    "        self.asset=asset\n",
    "        self.SMA_S=SMA_S\n",
    "        self.SMA_L=SMA_L\n",
    "        self.start=start\n",
    "        self.end=end\n",
    "        self.results=None\n",
    "        self.get_data()\n",
    "\n",
    "    def get_data(self):\n",
    "        df=yf.download(self.asset,self.start,self.end)\n",
    "        data=pd.DataFrame(df.Close)\n",
    "        data[\"returns\"]=np.log(data.Close.div(data.Close.shift(1)))\n",
    "        data[\"SMA_S\"]=data.Close.rolling(self.SMA_S).mean() \n",
    "        data[\"SMA_L\"]=data.Close.rolling(self.SMA_L).mean()\n",
    "        data.dropna(inplace=True)\n",
    "        self.data2=data\n",
    "\n",
    "        return data\n",
    "\n",
    "    def test_results(self):\n",
    "        data=self.data2.copy().dropna()\n",
    "        data[\"position\"]=np.where(data[\"SMA_S\"]>data[\"SMA_L\"],1,-1)\n",
    "        data[\"strategy\"]=data[\"returns\"]*data.position.shift(1)\n",
    "        data.dropna(inplace=True)\n",
    "        data[\"returnsbh\"]=data[\"returns\"].cumsum().apply(np.exp)\n",
    "        data[\"returnsstrategy\"]=data[\"strategy\"].cumsum().apply(np.exp)\n",
    "        performance=data[\"returnsstrategy\"].iloc[-1]\n",
    "        outperformance=performance-data[\"returnsbh\"].iloc[-1]\n",
    "        self.results=data\n",
    "\n",
    "        ret= np.exp(data[\"strategy\"].sum())\n",
    "        std= data[\"strategy\"].std()*np.sqrt(365)\n",
    "\n",
    "        return print(f\"Strategy return is {round(performance,6)}, which outperformed the Buy and Hold strategy by {round(outperformance,6)}\")\n",
    "    \n",
    "    def plot_results(self):\n",
    "        if self.results is None:\n",
    "            print(\"Run the test please\")\n",
    "        else:\n",
    "            title=\"{}| SMA_S={} | SMA_L{}\".format(self.asset, self.SMA_S, self.SMA_L)\n",
    "            self.results[[\"returnsbh\",\"returnsstrategy\"]].plot(title=title,figsize=(12,8))"
   ]
  },
  {
   "cell_type": "code",
   "execution_count": null,
   "metadata": {},
   "outputs": [],
   "source": [
    "tester = SMABacktester(\"SPY\", 50,100, \"2000-01-01\", \"2020-01-01\")"
   ]
  },
  {
   "cell_type": "code",
   "execution_count": null,
   "metadata": {},
   "outputs": [],
   "source": [
    "tester.test_results()"
   ]
  },
  {
   "cell_type": "code",
   "execution_count": null,
   "metadata": {},
   "outputs": [],
   "source": [
    "tester.plot_results()\n",
    "#Im plotting the worng things for the buy and hold "
   ]
  },
  {
   "cell_type": "code",
   "execution_count": null,
   "metadata": {},
   "outputs": [],
   "source": []
  },
  {
   "cell_type": "code",
   "execution_count": null,
   "metadata": {},
   "outputs": [],
   "source": []
  }
 ],
 "metadata": {
  "kernelspec": {
   "display_name": "Python 3.9.12 ('base')",
   "language": "python",
   "name": "python3"
  },
  "language_info": {
   "codemirror_mode": {
    "name": "ipython",
    "version": 3
   },
   "file_extension": ".py",
   "mimetype": "text/x-python",
   "name": "python",
   "nbconvert_exporter": "python",
   "pygments_lexer": "ipython3",
   "version": "3.9.12"
  },
  "orig_nbformat": 4,
  "vscode": {
   "interpreter": {
    "hash": "c4e4e0db8504a060df795c96eaaf5f2e40d78467421fda8e3c9314686cc061bf"
   }
  }
 },
 "nbformat": 4,
 "nbformat_minor": 2
}
