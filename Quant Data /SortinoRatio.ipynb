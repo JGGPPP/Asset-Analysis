{
 "cells": [
  {
   "cell_type": "markdown",
   "metadata": {},
   "source": [
    "### Sortino Risk \n",
    "\n",
    "Risk adjusted return of an investment. Similiar to the Sharpe Ratio, except it only considers 'downside deviation'. This is essentially the standard deviation of negative returns. \n",
    "\n",
    "\n",
    "If two stock shave the same Sharpe Ratio, but one has a lower return and a lower downside deviation, then this is less risky then the one with more volatiltiy in its negative returns. The Sortino ratio captures this. "
   ]
  },
  {
   "cell_type": "code",
   "execution_count": null,
   "metadata": {},
   "outputs": [],
   "source": [
    "import yfinance as yf\n",
    "import pandas as pd\n",
    "import numpy as np\n",
    "import matplotlib.pyplot as plt\n",
    "import seaborn\n",
    "from scipy.stats import linregress\n",
    "from datetime import date, timedelta"
   ]
  },
  {
   "cell_type": "code",
   "execution_count": null,
   "metadata": {},
   "outputs": [],
   "source": [
    "#\n",
    "data = yf.download([\"SPY\", \"BTC-USD\"], start=\"2020-01-01\", end = date.today())\n",
    "closes = data['Adj Close']\n",
    "spy_returns = closes.SPY.pct_change().dropna\n",
    "btc_returns = closes['BTC-USD'].pct_change().dropna"
   ]
  },
  {
   "cell_type": "code",
   "execution_count": null,
   "metadata": {},
   "outputs": [],
   "source": [
    "# Calculate Sortino Ratio \n",
    "def sortino_ratio(returns, adjustment_factor=0.0):\n",
    "    \n",
    "    #compute annualised return\n",
    "    returns_risk_adj = np.asanyarray(int(returns - adjustment_factor))\n",
    "    mean_annual_return = returns_risk_adj.mean() * 252\n",
    "\n",
    "    #compute the downside deviation\n",
    "    downside_diff = np.clip(returns_risk_adj, np.NINF, 0)\n",
    "    np.square(downside_diff, out=downside_diff)\n",
    "    annualised_downside_deviation = np.sqrt(downside_diff.mean()) * np.sqrt(252)\n",
    "\n",
    "    return mean_annual_return / annualised_downside_deviation\n",
    "\n"
   ]
  },
  {
   "cell_type": "code",
   "execution_count": null,
   "metadata": {},
   "outputs": [],
   "source": [
    "spy_returns.rolling(30).apply(sortino_ratio).plot()"
   ]
  },
  {
   "cell_type": "code",
   "execution_count": null,
   "metadata": {},
   "outputs": [],
   "source": [
    "spy_returns.rolling(30).apply(sortino_ratio).hist(bins=50)"
   ]
  },
  {
   "cell_type": "code",
   "execution_count": null,
   "metadata": {},
   "outputs": [],
   "source": [
    "btc_returns.rolling(30).apply(sortino_ratio)\n",
    "- spy_returns.rolling(30).apply(sortino_ratio).hist(bins=50)"
   ]
  },
  {
   "cell_type": "code",
   "execution_count": null,
   "metadata": {},
   "outputs": [],
   "source": []
  },
  {
   "cell_type": "code",
   "execution_count": null,
   "metadata": {},
   "outputs": [],
   "source": []
  },
  {
   "cell_type": "code",
   "execution_count": null,
   "metadata": {},
   "outputs": [],
   "source": []
  },
  {
   "cell_type": "code",
   "execution_count": null,
   "metadata": {},
   "outputs": [],
   "source": []
  },
  {
   "cell_type": "code",
   "execution_count": null,
   "metadata": {},
   "outputs": [],
   "source": []
  },
  {
   "cell_type": "code",
   "execution_count": null,
   "metadata": {},
   "outputs": [],
   "source": []
  },
  {
   "cell_type": "code",
   "execution_count": null,
   "metadata": {},
   "outputs": [],
   "source": []
  },
  {
   "cell_type": "code",
   "execution_count": null,
   "metadata": {},
   "outputs": [],
   "source": []
  },
  {
   "cell_type": "code",
   "execution_count": null,
   "metadata": {},
   "outputs": [],
   "source": []
  },
  {
   "cell_type": "code",
   "execution_count": null,
   "metadata": {},
   "outputs": [],
   "source": []
  }
 ],
 "metadata": {
  "kernelspec": {
   "display_name": "Python 3.9.12 ('base')",
   "language": "python",
   "name": "python3"
  },
  "language_info": {
   "codemirror_mode": {
    "name": "ipython",
    "version": 3
   },
   "file_extension": ".py",
   "mimetype": "text/x-python",
   "name": "python",
   "nbconvert_exporter": "python",
   "pygments_lexer": "ipython3",
   "version": "3.9.12 (main, Apr  5 2022, 01:53:17) \n[Clang 12.0.0 ]"
  },
  "orig_nbformat": 4,
  "vscode": {
   "interpreter": {
    "hash": "c4e4e0db8504a060df795c96eaaf5f2e40d78467421fda8e3c9314686cc061bf"
   }
  }
 },
 "nbformat": 4,
 "nbformat_minor": 2
}
