{
 "cells": [
  {
   "cell_type": "markdown",
   "metadata": {},
   "source": [
    "### Performance measurment vs a benchmark\n",
    "\n",
    "The information ratio \n"
   ]
  },
  {
   "cell_type": "code",
   "execution_count": null,
   "metadata": {},
   "outputs": [],
   "source": [
    "import pandas as pd\n",
    "import yfinance as yf\n",
    "from datetime import date, timedelta"
   ]
  },
  {
   "cell_type": "code",
   "execution_count": null,
   "metadata": {},
   "outputs": [],
   "source": [
    "#Get Data\n",
    "data = yf.download(['AAPL', 'BTC-USD', 'ETH-USD', 'TSLA', '^GSPC', '^IXIC'], start=\"2020-01-01\", end = date.today())\n",
    "closes = data['Adj Close']\n",
    "benchmark_returns = closes['^GSPC'].pct_change()\n",
    "benchmark_returns"
   ]
  },
  {
   "cell_type": "code",
   "execution_count": null,
   "metadata": {},
   "outputs": [],
   "source": [
    "#Construct a simple portfolio \n",
    "btc_position = closes['BTC-USD'] * 100\n",
    "ETH_position = closes['ETH-USD'] * 100\n",
    "\n",
    "#portfolio valjue over time \n",
    "portfolio_value = btc_position +  ETH_position \n",
    "\n",
    "#daily portfolio pnl\n",
    "portfolio_pnl = (\n",
    "    (btc_position - btc_position.shift()) + (ETH_position - ETH_position.shift())\n",
    ")\n",
    "#daily return \n",
    "portfolio_returns = (portfolio_pnl / portfolio_value)\n",
    "portfolio_returns.name = \"Port\"\n",
    "\n",
    "# prep dataframes for plotting\n",
    "portfolio_cumulative_returns = (portfolio_returns.fillna(0.0) + 1).cumprod()\n",
    "benchmark_cumulative_returns = (benchmark_returns.fillna(0.0) + 1).cumprod()\n",
    "\n"
   ]
  },
  {
   "cell_type": "code",
   "execution_count": null,
   "metadata": {},
   "outputs": [],
   "source": [
    "# plot the cumulative portfolio vs S&P benchmark \n",
    "pd.concat(\n",
    "    [portfolio_cumulative_returns, benchmark_cumulative_returns], \n",
    "    axis=1\n",
    ").plot()"
   ]
  },
  {
   "cell_type": "code",
   "execution_count": null,
   "metadata": {},
   "outputs": [],
   "source": [
    "# function for information ratio. \n",
    "# information ratio is the average active return devided by the tracking error.\n",
    "#active return is the difference between portfolio and becnhmark returns. \n",
    "#tracking error is the standard deviaiton of the active return \n",
    "def information_ratio(portfolio_returns, benchmark_returns):\n",
    "    active_return = portfolio_returns - benchmark_returns\n",
    "    tracking_error = active_return.std()\n",
    "    return active_return.mean() / tracking_error "
   ]
  },
  {
   "cell_type": "code",
   "execution_count": null,
   "metadata": {},
   "outputs": [],
   "source": [
    "information_ratio(portfolio_returns, benchmark_returns)"
   ]
  },
  {
   "cell_type": "code",
   "execution_count": null,
   "metadata": {},
   "outputs": [],
   "source": []
  },
  {
   "cell_type": "code",
   "execution_count": null,
   "metadata": {},
   "outputs": [],
   "source": []
  },
  {
   "cell_type": "code",
   "execution_count": null,
   "metadata": {},
   "outputs": [],
   "source": []
  }
 ],
 "metadata": {
  "kernelspec": {
   "display_name": "Python 3.9.12 ('base')",
   "language": "python",
   "name": "python3"
  },
  "language_info": {
   "codemirror_mode": {
    "name": "ipython",
    "version": 3
   },
   "file_extension": ".py",
   "mimetype": "text/x-python",
   "name": "python",
   "nbconvert_exporter": "python",
   "pygments_lexer": "ipython3",
   "version": "3.9.12 (main, Apr  5 2022, 01:53:17) \n[Clang 12.0.0 ]"
  },
  "orig_nbformat": 4,
  "vscode": {
   "interpreter": {
    "hash": "c4e4e0db8504a060df795c96eaaf5f2e40d78467421fda8e3c9314686cc061bf"
   }
  }
 },
 "nbformat": 4,
 "nbformat_minor": 2
}
