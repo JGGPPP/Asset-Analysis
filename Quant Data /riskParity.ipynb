{
 "cells": [
  {
   "cell_type": "markdown",
   "metadata": {},
   "source": [
    "### Risk Parity \n",
    "\n",
    "The goal is to earn optimal level of return at a targeted risk level. \n",
    "\n",
    "The problem with dollar weighted portfolios is not every stock has the same risk. That means if you equally weigh two stocks, but one has higher risk, portfolio returns will be dominated by the higher-risk stock. Risk parity tries to avoid this problem."
   ]
  },
  {
   "cell_type": "code",
   "execution_count": null,
   "metadata": {},
   "outputs": [],
   "source": [
    "import yfinance as yf\n",
    "import riskfolio as rp\n",
    "import warnings\n",
    "warnings.filterwarnings(\"ignore\")"
   ]
  },
  {
   "cell_type": "code",
   "execution_count": null,
   "metadata": {},
   "outputs": [],
   "source": [
    "#Get asset price data \n",
    "assets = ['AAPL', 'BTC-USD', 'GC=F', 'TSLA', '^GSPC', '^IXIC']\n",
    "assets.sort()\n",
    "data = yf.download(assets, start=\"2020-02-03\", end=\"2019-12-30\")\n",
    "returns = data['Adj Close']. pct_change().dropna()"
   ]
  },
  {
   "cell_type": "code",
   "execution_count": null,
   "metadata": {},
   "outputs": [],
   "source": [
    "#setup a portfolio with equal risk weights. Riskfolio-lib will find the weights that casue the risk contribution of each stock to be equal \n",
    "\n",
    "port = rp.Portfolio(returns=returns)\n",
    "port.assets_stats(method_mu='hist', method_cov='hist', d=0.94)\n",
    "\n",
    "w_rp = port.rp_optimization(\n",
    "    model = \"Classic\", #uses historical\n",
    "    rm = \"MV\", #uses mean-variance optimisation\n",
    "    hist = True, # use historical scenarios\n",
    "    rf = 0, # set risk free rate to 0\n",
    "    b = None # dont use constraints\n",
    ")"
   ]
  },
  {
   "cell_type": "code",
   "execution_count": null,
   "metadata": {},
   "outputs": [],
   "source": [
    "ax = rp.plot_pie(w=w_rp)"
   ]
  },
  {
   "cell_type": "code",
   "execution_count": null,
   "metadata": {},
   "outputs": [],
   "source": [
    "ax = rp.plot_risk_con(\n",
    "    w_rp,\n",
    "    cov = port.cov, \n",
    "    returns = port.returns,\n",
    "    rm = \"MV\", \n",
    "    rf=0\n",
    ")"
   ]
  },
  {
   "cell_type": "code",
   "execution_count": null,
   "metadata": {},
   "outputs": [],
   "source": [
    "# add a constraint to weight the stocks in a way to reach a minimum portfolio return. This adds weight to higher-risk stock to push the portoflio higher \n",
    "\n",
    "port.lowerret = 0.0008\n",
    "\n",
    "w_rp_c = port.rp_optimization(\n",
    "    model = \"Classic\", #uses historical\n",
    "    rm = \"MV\", #uses mean-variance optimisation\n",
    "    hist = True, # use historical scenarios\n",
    "    rf = 0, # set risk free rate to 0\n",
    "    b = None # dont use constraints\n",
    ")\n",
    "\n"
   ]
  },
  {
   "cell_type": "code",
   "execution_count": null,
   "metadata": {},
   "outputs": [],
   "source": [
    "ax = rp.plot_pie(w=w_rp_c)"
   ]
  },
  {
   "cell_type": "code",
   "execution_count": null,
   "metadata": {},
   "outputs": [],
   "source": [
    "#plot risk contributions \n",
    "ax = rp.plot_risk_con(\n",
    "    w_rp_c,  \n",
    "    cov=port.cov,\n",
    "    returns = port.returns,\n",
    "    rm=\"MV\",\n",
    "    rf=0\n",
    ")"
   ]
  },
  {
   "cell_type": "code",
   "execution_count": null,
   "metadata": {},
   "outputs": [],
   "source": []
  },
  {
   "cell_type": "code",
   "execution_count": null,
   "metadata": {},
   "outputs": [],
   "source": []
  },
  {
   "cell_type": "code",
   "execution_count": null,
   "metadata": {},
   "outputs": [],
   "source": []
  },
  {
   "cell_type": "code",
   "execution_count": null,
   "metadata": {},
   "outputs": [],
   "source": []
  },
  {
   "cell_type": "code",
   "execution_count": null,
   "metadata": {},
   "outputs": [],
   "source": []
  }
 ],
 "metadata": {
  "kernelspec": {
   "display_name": "Python 3.9.12 ('base')",
   "language": "python",
   "name": "python3"
  },
  "language_info": {
   "codemirror_mode": {
    "name": "ipython",
    "version": 3
   },
   "file_extension": ".py",
   "mimetype": "text/x-python",
   "name": "python",
   "nbconvert_exporter": "python",
   "pygments_lexer": "ipython3",
   "version": "3.9.12 (main, Apr  5 2022, 01:53:17) \n[Clang 12.0.0 ]"
  },
  "orig_nbformat": 4,
  "vscode": {
   "interpreter": {
    "hash": "c4e4e0db8504a060df795c96eaaf5f2e40d78467421fda8e3c9314686cc061bf"
   }
  }
 },
 "nbformat": 4,
 "nbformat_minor": 2
}
